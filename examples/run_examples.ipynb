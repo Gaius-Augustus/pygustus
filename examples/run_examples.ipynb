{
 "cells": [
  {
   "cell_type": "code",
   "execution_count": 1,
   "id": "29abe867",
   "metadata": {},
   "outputs": [
    {
     "name": "stdout",
     "output_type": "stream",
     "text": [
      "100% [..........................................................................] 1016673 / 1016673"
     ]
    },
    {
     "data": {
      "text/plain": [
       "'data/genome.fa'"
      ]
     },
     "execution_count": 1,
     "metadata": {},
     "output_type": "execute_result"
    }
   ],
   "source": [
    "from pygustus import augustus\n",
    "import shutil\n",
    "import wget\n",
    "import os\n",
    "\n",
    "data_dir = 'data'\n",
    "out_dir = 'out'\n",
    "debug_dir = 'debug'\n",
    "\n",
    "# Create required structure and \n",
    "# download data files\n",
    "\n",
    "if os.path.exists(data_dir):\n",
    "    shutil.rmtree(data_dir)\n",
    
    "os.makedirs(data_dir)\n",
    "\n",
    "if os.path.exists(out_dir):\n",
    "    shutil.rmtree(out_dir)\n",
    
    "os.makedirs(out_dir)\n",
    "\n",
    "if os.path.exists(debug_dir):\n",
    "    shutil.rmtree(debug_dir)\n",
    
    "os.makedirs(debug_dir)\n",
    "\n",
    "data_url = 'https://raw.githubusercontent.com/Gaius-Augustus/pygustus/main/tests/data/example.fa'\n",
    "data_file = os.path.join(data_dir, 'example.fa')\n",
    "wget.download(data_url, out=data_file)\n",
    "\n",
    "data_url = 'https://raw.githubusercontent.com/Gaius-Augustus/pygustus/main/tests/data/genome.fa'\n",
    "data_file = os.path.join(data_dir, 'genome.fa')\n",
    "wget.download(data_url, out=data_file)"
   ]
  },
  {
   "cell_type": "code",
   "execution_count": 2,
   "id": "5fa44cad",
   "metadata": {},
   "outputs": [
    {
     "name": "stdout",
     "output_type": "stream",
     "text": [
      "Execute AUGUSTUS with given options.\n",
      "# This output was generated with AUGUSTUS (version 3.4.0).\n",
      "# AUGUSTUS is a gene prediction tool written by M. Stanke (mario.stanke@uni-greifswald.de),\n",
      "# O. Keller, S. König, L. Gerischer, L. Romoth and Katharina Hoff.\n",
      "# Please cite: Mario Stanke, Mark Diekhans, Robert Baertsch, David Haussler (2008),\n",
      "# Using native and syntenically mapped cDNA alignments to improve de novo gene finding\n",
      "# Bioinformatics 24: 637-644, doi 10.1093/bioinformatics/btn013\n",
      "# No extrinsic information on sequences given.\n",
      "# Initializing the parameters using config directory /usr/share/augustus/config/ ...\n",
      "# human version. Using species specific transition matrix: /usr/share/augustus/config/species/human/human_trans_shadow_partial_utr.pbl\n",
      "# Looks like data/example.fa is in fasta format.\n",
      "# We have hints for 0 sequences and for 0 of the sequences in the input set.\n",
      "#\n",
      "# ----- prediction on sequence number 1 (length = 9453, name = HS04636) -----\n",
      "#\n",
      "# Predicted genes for sequence number 1 on both strands\n",
      "# start gene g1\n",
      "HS04636\tAUGUSTUS\tgene\t836\t8857\t1\t+\t.\tg1\n",
      "HS04636\tAUGUSTUS\ttranscript\t836\t8857\t.\t+\t.\tg1.t1\n",
      "HS04636\tAUGUSTUS\ttss\t836\t836\t.\t+\t.\ttranscript_id \"g1.t1\"; gene_id \"g1\";\n",
      "HS04636\tAUGUSTUS\texon\t836\t1017\t.\t+\t.\ttranscript_id \"g1.t1\"; gene_id \"g1\";\n",
      "HS04636\tAUGUSTUS\tstart_codon\t966\t968\t.\t+\t0\ttranscript_id \"g1.t1\"; gene_id \"g1\";\n",
      "HS04636\tAUGUSTUS\tCDS\t966\t1017\t.\t+\t0\ttranscript_id \"g1.t1\"; gene_id \"g1\";\n",
      "HS04636\tAUGUSTUS\tCDS\t1818\t1934\t.\t+\t2\ttranscript_id \"g1.t1\"; gene_id \"g1\";\n",
      "HS04636\tAUGUSTUS\texon\t1818\t1934\t.\t+\t.\ttranscript_id \"g1.t1\"; gene_id \"g1\";\n",
      "HS04636\tAUGUSTUS\tCDS\t2055\t2198\t.\t+\t2\ttranscript_id \"g1.t1\"; gene_id \"g1\";\n",
      "HS04636\tAUGUSTUS\texon\t2055\t2198\t.\t+\t.\ttranscript_id \"g1.t1\"; gene_id \"g1\";\n",
      "HS04636\tAUGUSTUS\tCDS\t2852\t2995\t.\t+\t2\ttranscript_id \"g1.t1\"; gene_id \"g1\";\n",
      "HS04636\tAUGUSTUS\texon\t2852\t2995\t.\t+\t.\ttranscript_id \"g1.t1\"; gene_id \"g1\";\n",
      "HS04636\tAUGUSTUS\tCDS\t3426\t3607\t.\t+\t2\ttranscript_id \"g1.t1\"; gene_id \"g1\";\n",
      "HS04636\tAUGUSTUS\texon\t3426\t3607\t.\t+\t.\ttranscript_id \"g1.t1\"; gene_id \"g1\";\n",
      "HS04636\tAUGUSTUS\tCDS\t4340\t4423\t.\t+\t0\ttranscript_id \"g1.t1\"; gene_id \"g1\";\n",
      "HS04636\tAUGUSTUS\texon\t4340\t4423\t.\t+\t.\ttranscript_id \"g1.t1\"; gene_id \"g1\";\n",
      "HS04636\tAUGUSTUS\tCDS\t4543\t4789\t.\t+\t0\ttranscript_id \"g1.t1\"; gene_id \"g1\";\n",
      "HS04636\tAUGUSTUS\texon\t4543\t4789\t.\t+\t.\ttranscript_id \"g1.t1\"; gene_id \"g1\";\n",
      "HS04636\tAUGUSTUS\tCDS\t5072\t5358\t.\t+\t2\ttranscript_id \"g1.t1\"; gene_id \"g1\";\n",
      "HS04636\tAUGUSTUS\texon\t5072\t5358\t.\t+\t.\ttranscript_id \"g1.t1\"; gene_id \"g1\";\n",
      "HS04636\tAUGUSTUS\tCDS\t5860\t6007\t.\t+\t0\ttranscript_id \"g1.t1\"; gene_id \"g1\";\n",
      "HS04636\tAUGUSTUS\texon\t5860\t6007\t.\t+\t.\ttranscript_id \"g1.t1\"; gene_id \"g1\";\n",
      "HS04636\tAUGUSTUS\tCDS\t6494\t6903\t.\t+\t2\ttranscript_id \"g1.t1\"; gene_id \"g1\";\n",
      "HS04636\tAUGUSTUS\texon\t6494\t8857\t.\t+\t.\ttranscript_id \"g1.t1\"; gene_id \"g1\";\n",
      "HS04636\tAUGUSTUS\tstop_codon\t6901\t6903\t.\t+\t0\ttranscript_id \"g1.t1\"; gene_id \"g1\";\n",
      "HS04636\tAUGUSTUS\ttts\t8857\t8857\t.\t+\t.\ttranscript_id \"g1.t1\"; gene_id \"g1\";\n",
      "# protein sequence = [MLARALLLCAVLALSHTANPCCSHPCQNRGVCMSVGFDQYKCDCTRTGFYGENCSTPEFLTRIKLFLKPTPNTVHYIL\n",
      "# THFKGFWNVVNNIPFLRNAIMSYVLTSRSHLIDSPPTYNADYGYKSWEAFSNLSYYTRALPPVPDDCPTPLGVKGKKQLPDSNEIVEKLLLRRKFIPD\n",
      "# PQGSNMMFAFFAQHFTHQFFKTDHKRGPAFTNGLGHGVDLNHIYGETLARQRKLRLFKDGKMKYQIIDGEMYPPTVKDTQAEMIYPPQVPEHLRFAVG\n",
      "# QEVFGLVPGLMMYATIWLREHNRVCDVLKQEHPEWGDEQLFQTSRLILIGETIKIVIEDYVQHLSGYHFKLKFDPELLFNKQFQYQNRIAAEFNTLYH\n",
      "# WHPLLPDTFQIHDQKYNYQQFIYNNSILLEHGITQFVESFTRQIAGRVAGGRNVPPAVQKVSQASIDQSRQMKYQSFNEYRKRFMLKPYESFEELTGE\n",
      "# KEMSAELEALYGDIDAVELYPALLVEKPRPDAIFGETMVEVGAPFSLKGLMGNVICSPAYWKPSTFGGEVGFQIINTASIQSLICNNVKGCPFTSFSV\n",
      "# PDPELIKTVTINASSSRSGLDDINPTVLLKERSTEL]\n",
      "# end gene g1\n",
      "###\n",
      "#\n",
      "# ----- prediction on sequence number 2 (length = 2344, name = HS08198) -----\n",
      "#\n",
      "# Predicted genes for sequence number 2 on both strands\n",
      "# start gene g2\n",
      "HS08198\tAUGUSTUS\tgene\t86\t2344\t1\t+\t.\tg2\n",
      "HS08198\tAUGUSTUS\ttranscript\t86\t2344\t.\t+\t.\tg2.t1\n",
      "HS08198\tAUGUSTUS\ttss\t86\t86\t.\t+\t.\ttranscript_id \"g2.t1\"; gene_id \"g2\";\n",
      "HS08198\tAUGUSTUS\texon\t86\t582\t.\t+\t.\ttranscript_id \"g2.t1\"; gene_id \"g2\";\n",
      "HS08198\tAUGUSTUS\tstart_codon\t445\t447\t.\t+\t0\ttranscript_id \"g2.t1\"; gene_id \"g2\";\n",
      "HS08198\tAUGUSTUS\tCDS\t445\t582\t.\t+\t0\ttranscript_id \"g2.t1\"; gene_id \"g2\";\n",
      "HS08198\tAUGUSTUS\tCDS\t812\t894\t.\t+\t0\ttranscript_id \"g2.t1\"; gene_id \"g2\";\n",
      "HS08198\tAUGUSTUS\texon\t812\t894\t.\t+\t.\ttranscript_id \"g2.t1\"; gene_id \"g2\";\n",
      "HS08198\tAUGUSTUS\tCDS\t1053\t1123\t.\t+\t1\ttranscript_id \"g2.t1\"; gene_id \"g2\";\n",
      "HS08198\tAUGUSTUS\texon\t1053\t1123\t.\t+\t.\ttranscript_id \"g2.t1\"; gene_id \"g2\";\n",
      "HS08198\tAUGUSTUS\tCDS\t1208\t1315\t.\t+\t2\ttranscript_id \"g2.t1\"; gene_id \"g2\";\n",
      "HS08198\tAUGUSTUS\texon\t1208\t1315\t.\t+\t.\ttranscript_id \"g2.t1\"; gene_id \"g2\";\n",
      "HS08198\tAUGUSTUS\tCDS\t1587\t1688\t.\t+\t2\ttranscript_id \"g2.t1\"; gene_id \"g2\";\n",
      "HS08198\tAUGUSTUS\texon\t1587\t1688\t.\t+\t.\ttranscript_id \"g2.t1\"; gene_id \"g2\";\n",
      "# protein sequence = [MLPPGTATLLTLLLAAGSLGQKPQRPRRPASPISTIQPKANFDAQQEQGHRAEATTLHVAPQGTAMAVSTFRKLDGIC\n",
      "# WQVRQLYGDTGVLGRFLLQARGARGAVHVVVAETDYQSFAVLYLERAGQLSVKLYARSLPVSDSVLSGFEQRVQEAHLTEDQIFYFPKY]\n",
      "# end gene g2\n",
      "###\n",
      "# command line:\n",
      "# augustus --species=human --UTR=True --softmasking=False data/example.fa\n"
     ]
    }
   ],
   "source": [
    "# Execute a simple example and outputs the\n",
    "# results on the command line.\n",
    "\n",
    "augustus.predict(\n",
    "    os.path.join(data_dir, 'example.fa'),\n",
    "    species='human',\n",
    "    UTR=True, softmasking=False)"
   ]
  },
  {
   "cell_type": "code",
   "execution_count": 3,
   "id": "50edf2b2",
   "metadata": {},
   "outputs": [
    {
     "name": "stdout",
     "output_type": "stream",
     "text": [
      "Execute AUGUSTUS with given options.\n",
      "Output written to: out/aug_simple.gff\n"
     ]
    }
   ],
   "source": [
    "# Execute a simple example and outputs the\n",
    "# results in debug/aug_simple.gff.\n",
    "\n",
    "out_file = os.path.join(out_dir, 'aug_simple.gff')\n",
    "augustus.predict(\n",
    "    os.path.join(data_dir, 'example.fa'),\n",
    "    species='human',\n",
    "    UTR=True, softmasking=False,\n",
    "    outfile=out_file)"
   ]
  },
  {
   "cell_type": "code",
   "execution_count": 4,
   "id": "d6aa878e",
   "metadata": {},
   "outputs": [
    {
     "name": "stdout",
     "output_type": "stream",
     "text": [
      "Execute AUGUSTUS with 2 jobs in parallel.\n",
      "Joined output written to: out/aug_parallel.gff\n"
     ]
    }
   ],
   "source": [
    "# Example for parallel execution (input file is split).\n",
    "# Joined results stored in out/aug_parallel.gff.\n",
    "# Debug output stored in folder debug/run_augustus_parallel.\n",
    "\n",
    "out_file = os.path.join(out_dir, 'aug_parallel.gff')\n",
    "cur_debug_dir = os.path.join(\n",
    "    debug_dir, 'run_augustus_parallel')\n",
    "augustus.predict(\n",
    "    os.path.join(data_dir, 'example.fa'),\n",
    "    species='human',\n",
    "    UTR=True, softmasking=True, jobs=2,\n",
    "    outfile=out_file,\n",
    "    debugOutputDir=cur_debug_dir)"
   ]
  },
  {
   "cell_type": "code",
   "execution_count": 5,
   "id": "a09fd480",
   "metadata": {},
   "outputs": [
    {
     "name": "stdout",
     "output_type": "stream",
     "text": [
      "Execute AUGUSTUS with 5 jobs in parallel.\n",
      "Joined output written to: out/aug_parallel_on_seq.gff\n"
     ]
    }
   ],
   "source": [
    "# Example for parallel execution (automatically setting the AUGUSTUS\n",
    "# parameters predictionStart and predictionEnd based on the given values\n",
    "# for chunksize and overlap).\n",
    "# Joined results stored in out/aug_parallel_on_seq.gff.\n",
    "# Debug output stored in folder debug/run_augustus_parallel_on_seq.\n",
    "\n",
    "out_file = os.path.join(out_dir, 'aug_parallel_on_seq.gff')\n",
    "cur_debug_dir = os.path.join(\n",
    "    debug_dir, 'run_augustus_parallel_on_seq')\n",
    "augustus.predict(\n",
    "    os.path.join(data_dir, 'genome.fa'),\n",
    "    species='human',\n",
    "    UTR=True, softmasking=True, jobs=5,\n",
    "    outfile=out_file,\n",
    "    partitionLargeSequences=True,\n",
    "    chunksize=250000,\n",
    "    overlap=50000,\n",
    "    maxSeqSize=750000,\n",
    "    debugOutputDir=cur_debug_dir)"
   ]
  },
  {
   "cell_type": "code",
   "execution_count": 6,
   "id": "87657b62",
   "metadata": {},
   "outputs": [
    {
     "name": "stdout",
     "output_type": "stream",
     "text": [
      "9453 bases.\tHS04636 BASE COUNT     2937 a   1716 c   1710 g   3090 t\n",
      "2344 bases.\tHS08198 BASE COUNT     400 a   730 c   778 g   436 t\n",
      "summary: BASE COUNT     3337 a   2446 c   2488 g   3526 t\n",
      "total 11797bp in 2 sequence(s).\n",
      "gc: 41.82419259133678%\n"
     ]
    }
   ],
   "source": [
    "# Show fasta file information.\n",
    "augustus.show_fasta_info('data/example.fa')"
   ]
  },
  {
   "cell_type": "code",
   "execution_count": 7,
   "id": "8853df51",
   "metadata": {},
   "outputs": [
    {
     "name": "stdout",
     "output_type": "stream",
     "text": [
      "Execute AUGUSTUS with given options.\n",
      "usage:\n",
      "augustus [parameters] --species=SPECIES queryfilename\n",
      "\n",
      "'queryfilename' is the filename (including relative path) to the file containing the query sequence(s)\n",
      "in fasta format.\n",
      "\n",
      "SPECIES is an identifier for the species. Use --species=help to see a list.\n",
      "\n",
      "parameters:\n",
      "--strand=both, --strand=forward or --strand=backward\n",
      "--genemodel=partial, --genemodel=intronless, --genemodel=complete, --genemodel=atleastone or --genemodel=exactlyone\n",
      "  partial      : allow prediction of incomplete genes at the sequence boundaries (default)\n",
      "  intronless   : only predict single-exon genes like in prokaryotes and some eukaryotes\n",
      "  complete     : only predict complete genes\n",
      "  atleastone   : predict at least one complete gene\n",
      "  exactlyone   : predict exactly one complete gene\n",
      "--singlestrand=true\n",
      "  predict genes independently on each strand, allow overlapping genes on opposite strands\n",
      "  This option is turned off by default.\n",
      "--hintsfile=hintsfilename\n",
      "  When this option is used the prediction considering hints (extrinsic information) is turned on.\n",
      "  hintsfilename contains the hints in gff format.\n",
      "--AUGUSTUS_CONFIG_PATH=path\n",
      "  path to config directory (if not specified as environment variable)\n",
      "--alternatives-from-evidence=true/false\n",
      "  report alternative transcripts when they are suggested by hints\n",
      "--alternatives-from-sampling=true/false\n",
      "  report alternative transcripts generated through probabilistic sampling\n",
      "--sample=n\n",
      "--minexonintronprob=p\n",
      "--minmeanexonintronprob=p\n",
      "--maxtracks=n\n",
      "  For a description of these parameters see section 4 of README.TXT.\n",
      "--proteinprofile=filename\n",
      "  When this option is used the prediction will consider the protein profile provided as parameter.\n",
      "  The protein profile extension is described in section 7 of README.TXT.\n",
      "--progress=true\n",
      "  show a progressmeter\n",
      "--gff3=on/off\n",
      "  output in gff3 format\n",
      "--predictionStart=A, --predictionEnd=B\n",
      "  A and B define the range of the sequence for which predictions should be found.\n",
      "--UTR=on/off\n",
      "  predict the untranslated regions in addition to the coding sequence. This currently works only for a subset of species.\n",
      "--noInFrameStop=true/false\n",
      "  Do not report transcripts with in-frame stop codons. Otherwise, intron-spanning stop codons could occur. Default: false\n",
      "--noprediction=true/false\n",
      "  If true and input is in genbank format, no prediction is made. Useful for getting the annotated protein sequences.\n",
      "--uniqueGeneId=true/false\n",
      "  If true, output gene identifyers like this: seqname.gN\n",
      "--/Testing/testMode=prepare, --/Testing/testMode=run, (disabled by default)\n",
      "  prepare      : prepare a new minimal data set to test comparative Augustus\n",
      "  intronless   : run prediction over some given minimal data set\n",
      "  (*) a minimal data set is one retaining only the information need in prediction, usually very small (order of Mb) compared to full sequence data sets (ordet of Gb)\n",
      "\n",
      "For a complete list of parameters, type \"augustus --paramlist\".\n",
      "An exhaustive description can be found in the file README.TXT.\n"
     ]
    }
   ],
   "source": [
    "# Show AUGUSTUS help information\n",
    "augustus.show_aug_help()"
   ]
  },
  {
   "cell_type": "code",
   "execution_count": 8,
   "id": "c58186ae",
   "metadata": {},
   "outputs": [
    {
     "name": "stdout",
     "output_type": "stream",
     "text": [
      "usage:\n",
      "augustus.predict(queryfilename, species='SPECIES', [augustus_parameters], [pygustus_parameters])\n",
      "\n",
      "'queryfilename' is the filename (including relative path) to the file\n",
      "containing the query sequence(s) in fasta format.\n",
      "\n",
      "SPECIES is an identifier for the species.\n",
      "Use augustus.show_species_info() to see a list.\n",
      "\n",
      "augustus_parameters are all possible parameters for AUGUSTUS.\n",
      "Use augustus.show_aug_help() to find more information or\n",
      "augustus.show_aug_paramlist() to see a list.\n",
      "\n",
      "pygustus_parameters:\n",
      "\n",
      "chunksize (int)\n",
      "  description:\n",
      "    If this option is set and jobs > 1, each AUGUSTUS instance is executed \n",
      "    on sequence segments of the maximum size n. \n",
      "  default value: 2500000 \n",
      "\n",
      "debugOutputDir (string)\n",
      "  description:\n",
      "    If the directory is specified, all generated files, i.e. the split of \n",
      "    the input file and intermediate results, as well as the generated \n",
      "    AUGUSTUS command lines are stored there. This option works only for \n",
      "    the parallelization, i. e. jobs > 1 is set. \n",
      "\n",
      "jobs (int)\n",
      "  description:\n",
      "    If this option is set, AUGUSTUS is executed in parallel on sequence \n",
      "    segments or split input files using n jobs. After the execution of all \n",
      "    jobs, the output files are merged. \n",
      "  default value: 1 \n",
      "\n",
      "maxSeqSize (int)\n",
      "  description:\n",
      "    The maximum length of a sequence from which the sequence is started to \n",
      "    be partitioned. \n",
      "  default value: 3500000 \n",
      "\n",
      "minSplitSize (int)\n",
      "  description:\n",
      "    The input fasta file is spilt to at least n base pairs. Set this to 0 \n",
      "    to split the input in single sequence files. \n",
      "\n",
      "overlap (int)\n",
      "  description:\n",
      "    If this option is set and jobs > 1, each AUGUSTUS instance is executed \n",
      "    on sequence segments and the segments overlap by n. \n",
      "  default value: 500000 \n",
      "\n",
      "partitionHints (bool)\n",
      "  description:\n",
      "    If this option is set to True, a hints file is given and jobs > 1, \n",
      "    then the hints file is split into appropriate pieces for the \n",
      "    respective AUGUSTUS jobs. \n",
      "\n",
      "partitionLargeSequences (bool)\n",
      "  description:\n",
      "    Parallelize large sequences by automatically setting the AUGUSTUS \n",
      "    parameters predictionStart and predictionEnd based on the given values \n",
      "    for chunksize and overlap. \n",
      "\n",
      "path_to_bin (string)\n",
      "  description:\n",
      "    Sets the path to the desired executable version of AUGUSTUS when \n",
      "    augustus.predict() is called or etraining when etraining.train() is \n",
      "    called. The path is not saved for further executions.\n"
     ]
    }
   ],
   "source": [
    "# Show Pygustus help\n",
    "augustus.help()"
   ]
  },
  {
   "cell_type": "code",
   "execution_count": null,
   "id": "4bd26c1e",
   "metadata": {},
   "outputs": [],
   "source": []
  }
 ],
 "metadata": {
  "kernelspec": {
   "display_name": "Python 3 (ipykernel)",
   "language": "python",
   "name": "python3"
  },
  "language_info": {
   "codemirror_mode": {
    "name": "ipython",
    "version": 3
   },
   "file_extension": ".py",
   "mimetype": "text/x-python",
   "name": "python",
   "nbconvert_exporter": "python",
   "pygments_lexer": "ipython3",
   "version": "3.8.10"
  }
 },
 "nbformat": 4,
 "nbformat_minor": 5
}
